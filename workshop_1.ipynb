{
  "cells": [
    {
      "cell_type": "markdown",
      "id": "c8b9759a-4b22-4e0b-8aa3-cce2d07e4c98",
      "metadata": {
        "id": "c8b9759a-4b22-4e0b-8aa3-cce2d07e4c98"
      },
      "source": [
        "# Taller 1 - DATASETS Y TOKENIZADORES"
      ]
    },
    {
      "cell_type": "markdown",
      "id": "69b2ebcf-3a43-4288-bf88-5ae9bf8cd4f1",
      "metadata": {
        "id": "69b2ebcf-3a43-4288-bf88-5ae9bf8cd4f1"
      },
      "source": [
        "Realizado por:\n",
        "- Ortiz Rodríguez Nicol valeria\n",
        "- Tovar Parra Carlos Mauricio\n",
        "- Camargo Arcos Andres David\n"
      ]
    },
    {
      "cell_type": "markdown",
      "id": "XAAYncOuhSXR",
      "metadata": {
        "id": "XAAYncOuhSXR"
      },
      "source": [
        "## Primera Parte (40 puntos)"
      ]
    },
    {
      "cell_type": "code",
      "execution_count": 1,
      "id": "b5dfa3e0-d269-4c6e-a452-5327810624c7",
      "metadata": {
        "colab": {
          "base_uri": "https://localhost:8080/"
        },
        "id": "b5dfa3e0-d269-4c6e-a452-5327810624c7",
        "outputId": "8c80840a-63b1-4315-c0aa-8798114435b5"
      },
      "outputs": [
        {
          "name": "stdout",
          "output_type": "stream",
          "text": [
            "Requirement already satisfied: datasets in c:\\users\\nicol\\appdata\\local\\programs\\python\\python312\\lib\\site-packages (3.0.1)\n",
            "Requirement already satisfied: spacy in c:\\users\\nicol\\appdata\\local\\programs\\python\\python312\\lib\\site-packages (3.8.2)\n",
            "Requirement already satisfied: filelock in c:\\users\\nicol\\appdata\\local\\programs\\python\\python312\\lib\\site-packages (from datasets) (3.16.1)\n",
            "Requirement already satisfied: numpy>=1.17 in c:\\users\\nicol\\appdata\\local\\programs\\python\\python312\\lib\\site-packages (from datasets) (2.0.2)\n",
            "Requirement already satisfied: pyarrow>=15.0.0 in c:\\users\\nicol\\appdata\\local\\programs\\python\\python312\\lib\\site-packages (from datasets) (17.0.0)\n",
            "Requirement already satisfied: dill<0.3.9,>=0.3.0 in c:\\users\\nicol\\appdata\\local\\programs\\python\\python312\\lib\\site-packages (from datasets) (0.3.8)\n",
            "Requirement already satisfied: pandas in c:\\users\\nicol\\appdata\\local\\programs\\python\\python312\\lib\\site-packages (from datasets) (2.2.3)\n",
            "Requirement already satisfied: requests>=2.32.2 in c:\\users\\nicol\\appdata\\local\\programs\\python\\python312\\lib\\site-packages (from datasets) (2.32.3)\n",
            "Requirement already satisfied: tqdm>=4.66.3 in c:\\users\\nicol\\appdata\\local\\programs\\python\\python312\\lib\\site-packages (from datasets) (4.66.5)\n",
            "Requirement already satisfied: xxhash in c:\\users\\nicol\\appdata\\local\\programs\\python\\python312\\lib\\site-packages (from datasets) (3.5.0)\n",
            "Requirement already satisfied: multiprocess in c:\\users\\nicol\\appdata\\local\\programs\\python\\python312\\lib\\site-packages (from datasets) (0.70.16)\n",
            "Requirement already satisfied: fsspec<=2024.6.1,>=2023.1.0 in c:\\users\\nicol\\appdata\\local\\programs\\python\\python312\\lib\\site-packages (from fsspec[http]<=2024.6.1,>=2023.1.0->datasets) (2024.6.1)\n",
            "Requirement already satisfied: aiohttp in c:\\users\\nicol\\appdata\\local\\programs\\python\\python312\\lib\\site-packages (from datasets) (3.10.10)\n",
            "Requirement already satisfied: huggingface-hub>=0.22.0 in c:\\users\\nicol\\appdata\\local\\programs\\python\\python312\\lib\\site-packages (from datasets) (0.25.2)\n",
            "Requirement already satisfied: packaging in c:\\users\\nicol\\appdata\\local\\programs\\python\\python312\\lib\\site-packages (from datasets) (24.1)\n",
            "Requirement already satisfied: pyyaml>=5.1 in c:\\users\\nicol\\appdata\\local\\programs\\python\\python312\\lib\\site-packages (from datasets) (6.0.2)\n",
            "Requirement already satisfied: spacy-legacy<3.1.0,>=3.0.11 in c:\\users\\nicol\\appdata\\local\\programs\\python\\python312\\lib\\site-packages (from spacy) (3.0.12)\n",
            "Requirement already satisfied: spacy-loggers<2.0.0,>=1.0.0 in c:\\users\\nicol\\appdata\\local\\programs\\python\\python312\\lib\\site-packages (from spacy) (1.0.5)\n",
            "Requirement already satisfied: murmurhash<1.1.0,>=0.28.0 in c:\\users\\nicol\\appdata\\local\\programs\\python\\python312\\lib\\site-packages (from spacy) (1.0.10)\n",
            "Requirement already satisfied: cymem<2.1.0,>=2.0.2 in c:\\users\\nicol\\appdata\\local\\programs\\python\\python312\\lib\\site-packages (from spacy) (2.0.8)\n",
            "Requirement already satisfied: preshed<3.1.0,>=3.0.2 in c:\\users\\nicol\\appdata\\local\\programs\\python\\python312\\lib\\site-packages (from spacy) (3.0.9)\n",
            "Requirement already satisfied: thinc<8.4.0,>=8.3.0 in c:\\users\\nicol\\appdata\\local\\programs\\python\\python312\\lib\\site-packages (from spacy) (8.3.2)\n",
            "Requirement already satisfied: wasabi<1.2.0,>=0.9.1 in c:\\users\\nicol\\appdata\\local\\programs\\python\\python312\\lib\\site-packages (from spacy) (1.1.3)\n",
            "Requirement already satisfied: srsly<3.0.0,>=2.4.3 in c:\\users\\nicol\\appdata\\local\\programs\\python\\python312\\lib\\site-packages (from spacy) (2.4.8)\n",
            "Requirement already satisfied: catalogue<2.1.0,>=2.0.6 in c:\\users\\nicol\\appdata\\local\\programs\\python\\python312\\lib\\site-packages (from spacy) (2.0.10)\n",
            "Requirement already satisfied: weasel<0.5.0,>=0.1.0 in c:\\users\\nicol\\appdata\\local\\programs\\python\\python312\\lib\\site-packages (from spacy) (0.4.1)\n",
            "Requirement already satisfied: typer<1.0.0,>=0.3.0 in c:\\users\\nicol\\appdata\\local\\programs\\python\\python312\\lib\\site-packages (from spacy) (0.12.5)\n",
            "Requirement already satisfied: pydantic!=1.8,!=1.8.1,<3.0.0,>=1.7.4 in c:\\users\\nicol\\appdata\\local\\programs\\python\\python312\\lib\\site-packages (from spacy) (2.9.2)\n",
            "Requirement already satisfied: jinja2 in c:\\users\\nicol\\appdata\\local\\programs\\python\\python312\\lib\\site-packages (from spacy) (3.1.4)\n",
            "Requirement already satisfied: setuptools in c:\\users\\nicol\\appdata\\local\\programs\\python\\python312\\lib\\site-packages (from spacy) (75.1.0)\n",
            "Requirement already satisfied: langcodes<4.0.0,>=3.2.0 in c:\\users\\nicol\\appdata\\local\\programs\\python\\python312\\lib\\site-packages (from spacy) (3.4.1)\n",
            "Requirement already satisfied: aiohappyeyeballs>=2.3.0 in c:\\users\\nicol\\appdata\\local\\programs\\python\\python312\\lib\\site-packages (from aiohttp->datasets) (2.4.3)\n",
            "Requirement already satisfied: aiosignal>=1.1.2 in c:\\users\\nicol\\appdata\\local\\programs\\python\\python312\\lib\\site-packages (from aiohttp->datasets) (1.3.1)\n",
            "Requirement already satisfied: attrs>=17.3.0 in c:\\users\\nicol\\appdata\\local\\programs\\python\\python312\\lib\\site-packages (from aiohttp->datasets) (24.2.0)\n",
            "Requirement already satisfied: frozenlist>=1.1.1 in c:\\users\\nicol\\appdata\\local\\programs\\python\\python312\\lib\\site-packages (from aiohttp->datasets) (1.4.1)\n",
            "Requirement already satisfied: multidict<7.0,>=4.5 in c:\\users\\nicol\\appdata\\local\\programs\\python\\python312\\lib\\site-packages (from aiohttp->datasets) (6.1.0)\n",
            "Requirement already satisfied: yarl<2.0,>=1.12.0 in c:\\users\\nicol\\appdata\\local\\programs\\python\\python312\\lib\\site-packages (from aiohttp->datasets) (1.15.0)\n",
            "Requirement already satisfied: typing-extensions>=3.7.4.3 in c:\\users\\nicol\\appdata\\local\\programs\\python\\python312\\lib\\site-packages (from huggingface-hub>=0.22.0->datasets) (4.12.2)\n",
            "Requirement already satisfied: language-data>=1.2 in c:\\users\\nicol\\appdata\\local\\programs\\python\\python312\\lib\\site-packages (from langcodes<4.0.0,>=3.2.0->spacy) (1.2.0)\n",
            "Requirement already satisfied: annotated-types>=0.6.0 in c:\\users\\nicol\\appdata\\local\\programs\\python\\python312\\lib\\site-packages (from pydantic!=1.8,!=1.8.1,<3.0.0,>=1.7.4->spacy) (0.7.0)\n",
            "Requirement already satisfied: pydantic-core==2.23.4 in c:\\users\\nicol\\appdata\\local\\programs\\python\\python312\\lib\\site-packages (from pydantic!=1.8,!=1.8.1,<3.0.0,>=1.7.4->spacy) (2.23.4)\n",
            "Requirement already satisfied: charset-normalizer<4,>=2 in c:\\users\\nicol\\appdata\\local\\programs\\python\\python312\\lib\\site-packages (from requests>=2.32.2->datasets) (3.3.2)\n",
            "Requirement already satisfied: idna<4,>=2.5 in c:\\users\\nicol\\appdata\\local\\programs\\python\\python312\\lib\\site-packages (from requests>=2.32.2->datasets) (3.10)\n",
            "Requirement already satisfied: urllib3<3,>=1.21.1 in c:\\users\\nicol\\appdata\\local\\programs\\python\\python312\\lib\\site-packages (from requests>=2.32.2->datasets) (2.2.3)\n",
            "Requirement already satisfied: certifi>=2017.4.17 in c:\\users\\nicol\\appdata\\local\\programs\\python\\python312\\lib\\site-packages (from requests>=2.32.2->datasets) (2024.8.30)\n",
            "Requirement already satisfied: blis<1.1.0,>=1.0.0 in c:\\users\\nicol\\appdata\\local\\programs\\python\\python312\\lib\\site-packages (from thinc<8.4.0,>=8.3.0->spacy) (1.0.1)\n",
            "Requirement already satisfied: confection<1.0.0,>=0.0.1 in c:\\users\\nicol\\appdata\\local\\programs\\python\\python312\\lib\\site-packages (from thinc<8.4.0,>=8.3.0->spacy) (0.1.5)\n",
            "Requirement already satisfied: colorama in c:\\users\\nicol\\appdata\\local\\programs\\python\\python312\\lib\\site-packages (from tqdm>=4.66.3->datasets) (0.4.6)\n",
            "Requirement already satisfied: click>=8.0.0 in c:\\users\\nicol\\appdata\\local\\programs\\python\\python312\\lib\\site-packages (from typer<1.0.0,>=0.3.0->spacy) (8.1.7)\n",
            "Requirement already satisfied: shellingham>=1.3.0 in c:\\users\\nicol\\appdata\\local\\programs\\python\\python312\\lib\\site-packages (from typer<1.0.0,>=0.3.0->spacy) (1.5.4)\n",
            "Requirement already satisfied: rich>=10.11.0 in c:\\users\\nicol\\appdata\\local\\programs\\python\\python312\\lib\\site-packages (from typer<1.0.0,>=0.3.0->spacy) (13.9.2)\n",
            "Requirement already satisfied: cloudpathlib<1.0.0,>=0.7.0 in c:\\users\\nicol\\appdata\\local\\programs\\python\\python312\\lib\\site-packages (from weasel<0.5.0,>=0.1.0->spacy) (0.19.0)\n",
            "Requirement already satisfied: smart-open<8.0.0,>=5.2.1 in c:\\users\\nicol\\appdata\\local\\programs\\python\\python312\\lib\\site-packages (from weasel<0.5.0,>=0.1.0->spacy) (7.0.5)\n",
            "Requirement already satisfied: MarkupSafe>=2.0 in c:\\users\\nicol\\appdata\\local\\programs\\python\\python312\\lib\\site-packages (from jinja2->spacy) (2.1.5)\n",
            "Requirement already satisfied: python-dateutil>=2.8.2 in c:\\users\\nicol\\appdata\\local\\programs\\python\\python312\\lib\\site-packages (from pandas->datasets) (2.9.0.post0)\n",
            "Requirement already satisfied: pytz>=2020.1 in c:\\users\\nicol\\appdata\\local\\programs\\python\\python312\\lib\\site-packages (from pandas->datasets) (2024.2)\n",
            "Requirement already satisfied: tzdata>=2022.7 in c:\\users\\nicol\\appdata\\local\\programs\\python\\python312\\lib\\site-packages (from pandas->datasets) (2024.2)\n",
            "Requirement already satisfied: marisa-trie>=0.7.7 in c:\\users\\nicol\\appdata\\local\\programs\\python\\python312\\lib\\site-packages (from language-data>=1.2->langcodes<4.0.0,>=3.2.0->spacy) (1.2.0)\n",
            "Requirement already satisfied: six>=1.5 in c:\\users\\nicol\\appdata\\local\\programs\\python\\python312\\lib\\site-packages (from python-dateutil>=2.8.2->pandas->datasets) (1.16.0)\n",
            "Requirement already satisfied: markdown-it-py>=2.2.0 in c:\\users\\nicol\\appdata\\local\\programs\\python\\python312\\lib\\site-packages (from rich>=10.11.0->typer<1.0.0,>=0.3.0->spacy) (3.0.0)\n",
            "Requirement already satisfied: pygments<3.0.0,>=2.13.0 in c:\\users\\nicol\\appdata\\local\\programs\\python\\python312\\lib\\site-packages (from rich>=10.11.0->typer<1.0.0,>=0.3.0->spacy) (2.18.0)\n",
            "Requirement already satisfied: wrapt in c:\\users\\nicol\\appdata\\local\\programs\\python\\python312\\lib\\site-packages (from smart-open<8.0.0,>=5.2.1->weasel<0.5.0,>=0.1.0->spacy) (1.16.0)\n",
            "Requirement already satisfied: propcache>=0.2.0 in c:\\users\\nicol\\appdata\\local\\programs\\python\\python312\\lib\\site-packages (from yarl<2.0,>=1.12.0->aiohttp->datasets) (0.2.0)\n",
            "Requirement already satisfied: mdurl~=0.1 in c:\\users\\nicol\\appdata\\local\\programs\\python\\python312\\lib\\site-packages (from markdown-it-py>=2.2.0->rich>=10.11.0->typer<1.0.0,>=0.3.0->spacy) (0.1.2)\n"
          ]
        }
      ],
      "source": [
        "!pip install datasets spacy"
      ]
    },
    {
      "cell_type": "code",
      "execution_count": 2,
      "id": "LSgJM1tZ5EZH",
      "metadata": {
        "colab": {
          "base_uri": "https://localhost:8080/"
        },
        "id": "LSgJM1tZ5EZH",
        "outputId": "2532cb8d-26a9-4da3-bdfd-d6cfa36a24ab"
      },
      "outputs": [
        {
          "name": "stdout",
          "output_type": "stream",
          "text": [
            "Collecting es-core-news-sm==3.8.0\n",
            "  Downloading https://github.com/explosion/spacy-models/releases/download/es_core_news_sm-3.8.0/es_core_news_sm-3.8.0-py3-none-any.whl (12.9 MB)\n",
            "     ---------------------------------------- 0.0/12.9 MB ? eta -:--:--\n",
            "     ---------------------------------------- 0.0/12.9 MB ? eta -:--:--\n",
            "     - -------------------------------------- 0.5/12.9 MB 2.1 MB/s eta 0:00:06\n",
            "     -- ------------------------------------- 0.8/12.9 MB 1.8 MB/s eta 0:00:07\n",
            "     --- ------------------------------------ 1.0/12.9 MB 1.6 MB/s eta 0:00:08\n",
            "     ---- ----------------------------------- 1.6/12.9 MB 1.7 MB/s eta 0:00:07\n",
            "     ----- ---------------------------------- 1.8/12.9 MB 1.7 MB/s eta 0:00:07\n",
            "     ------- -------------------------------- 2.4/12.9 MB 1.7 MB/s eta 0:00:07\n",
            "     -------- ------------------------------- 2.6/12.9 MB 1.8 MB/s eta 0:00:06\n",
            "     -------- ------------------------------- 2.9/12.9 MB 1.6 MB/s eta 0:00:07\n",
            "     -------- ------------------------------- 2.9/12.9 MB 1.6 MB/s eta 0:00:07\n",
            "     ---------- ----------------------------- 3.4/12.9 MB 1.6 MB/s eta 0:00:07\n",
            "     ----------- ---------------------------- 3.7/12.9 MB 1.5 MB/s eta 0:00:07\n",
            "     ------------ --------------------------- 3.9/12.9 MB 1.5 MB/s eta 0:00:06\n",
            "     ------------- -------------------------- 4.2/12.9 MB 1.5 MB/s eta 0:00:06\n",
            "     ------------- -------------------------- 4.5/12.9 MB 1.5 MB/s eta 0:00:06\n",
            "     -------------- ------------------------- 4.7/12.9 MB 1.5 MB/s eta 0:00:06\n",
            "     --------------- ------------------------ 5.0/12.9 MB 1.5 MB/s eta 0:00:06\n",
            "     ---------------- ----------------------- 5.2/12.9 MB 1.4 MB/s eta 0:00:06\n",
            "     ---------------- ----------------------- 5.2/12.9 MB 1.4 MB/s eta 0:00:06\n",
            "     ----------------- ---------------------- 5.5/12.9 MB 1.4 MB/s eta 0:00:06\n",
            "     ------------------ --------------------- 6.0/12.9 MB 1.4 MB/s eta 0:00:05\n",
            "     -------------------- ------------------- 6.6/12.9 MB 1.4 MB/s eta 0:00:05\n",
            "     --------------------- ------------------ 6.8/12.9 MB 1.5 MB/s eta 0:00:05\n",
            "     --------------------- ------------------ 7.1/12.9 MB 1.5 MB/s eta 0:00:04\n",
            "     ---------------------- ----------------- 7.3/12.9 MB 1.4 MB/s eta 0:00:04\n",
            "     ---------------------- ----------------- 7.3/12.9 MB 1.4 MB/s eta 0:00:04\n",
            "     ----------------------- ---------------- 7.6/12.9 MB 1.4 MB/s eta 0:00:04\n",
            "     ------------------------ --------------- 7.9/12.9 MB 1.4 MB/s eta 0:00:04\n",
            "     ------------------------- -------------- 8.1/12.9 MB 1.4 MB/s eta 0:00:04\n",
            "     -------------------------- ------------- 8.7/12.9 MB 1.4 MB/s eta 0:00:04\n",
            "     --------------------------- ------------ 8.9/12.9 MB 1.4 MB/s eta 0:00:03\n",
            "     ---------------------------- ----------- 9.2/12.9 MB 1.4 MB/s eta 0:00:03\n",
            "     ----------------------------- ---------- 9.4/12.9 MB 1.4 MB/s eta 0:00:03\n",
            "     ------------------------------ --------- 9.7/12.9 MB 1.4 MB/s eta 0:00:03\n",
            "     ------------------------------ --------- 10.0/12.9 MB 1.4 MB/s eta 0:00:03\n",
            "     ------------------------------ --------- 10.0/12.9 MB 1.4 MB/s eta 0:00:03\n",
            "     ------------------------------- -------- 10.2/12.9 MB 1.4 MB/s eta 0:00:02\n",
            "     -------------------------------- ------- 10.5/12.9 MB 1.4 MB/s eta 0:00:02\n",
            "     ---------------------------------- ----- 11.0/12.9 MB 1.4 MB/s eta 0:00:02\n",
            "     ---------------------------------- ----- 11.3/12.9 MB 1.4 MB/s eta 0:00:02\n",
            "     ------------------------------------ --- 11.8/12.9 MB 1.4 MB/s eta 0:00:01\n",
            "     -------------------------------------- - 12.3/12.9 MB 1.4 MB/s eta 0:00:01\n",
            "     ---------------------------------------  12.6/12.9 MB 1.4 MB/s eta 0:00:01\n",
            "     ---------------------------------------  12.8/12.9 MB 1.4 MB/s eta 0:00:01\n",
            "     ---------------------------------------- 12.9/12.9 MB 1.4 MB/s eta 0:00:00\n",
            "\u001b[38;5;2m✔ Download and installation successful\u001b[0m\n",
            "You can now load the package via spacy.load('es_core_news_sm')\n"
          ]
        }
      ],
      "source": [
        "#Modelo pequeño para el procesamiento de lenguaje en español.\n",
        "!python -m spacy download es_core_news_sm"
      ]
    },
    {
      "cell_type": "code",
      "execution_count": 17,
      "id": "60731381-572f-4d31-a621-fef246d422cc",
      "metadata": {
        "id": "60731381-572f-4d31-a621-fef246d422cc"
      },
      "outputs": [],
      "source": [
        "from datasets import load_dataset\n",
        "import spacy\n",
        "from tqdm import tqdm #Para mostrar barra de progreso.\n",
        "import string\n",
        "import os\n",
        "import re"
      ]
    },
    {
      "cell_type": "code",
      "execution_count": 6,
      "id": "79fc4592-5275-453b-b9af-d46c6b7c03f7",
      "metadata": {
        "colab": {
          "base_uri": "https://localhost:8080/",
          "height": 283,
          "referenced_widgets": [
            "806f261b96a64ce6825adb88b263f5b2",
            "22786f39bf434d33896461ec36e5f8a6",
            "effbf02cfd534377ac020ae1507f719c",
            "2572eed84671459690ec78338de5b4e8",
            "43c8b354b4ba4701b17709e97018cd4a",
            "74789e3bec44488ba0b7dbda9a0f943c",
            "2c8ac45966eb4af28c76a17e83ad5b06",
            "282992c9682f406c90aa730c5cbf872d",
            "e8b0b643782e4914a3477a8d47668ebc",
            "9e263809bec04f378eb378b0db7209ab",
            "2f44e7977e464a8f90bcd06a2f8faf46",
            "fb498267b78e4a878d20bcaa439b70c9",
            "52b4f06633dc4dac80695b8a516ddc25",
            "4c6fb2c7cbbe401b8f789844222d0e3f",
            "06657483b53b49abbe39dc29c7df8a89",
            "f5c57dcc365140d89f27e489681fc174",
            "9b9897560ab047d9839d6137ab8891a0",
            "020399ed69a045ddba79e2f2ec6be4b9",
            "c30e65ad7acb4bd2af086c3705fc9893",
            "9aa49b8e42a6453e9b3269798f384e2c",
            "15b55152ca4141d0a3340e577be8e335",
            "de5a6a76b68b4236966ca742634a527c"
          ]
        },
        "id": "79fc4592-5275-453b-b9af-d46c6b7c03f7",
        "outputId": "283ea773-652c-4844-bd5a-6b4b7935edbe"
      },
      "outputs": [
        {
          "data": {
            "application/vnd.jupyter.widget-view+json": {
              "model_id": "163090a5f8fc44c1b1f16e6bf2f5808b",
              "version_major": 2,
              "version_minor": 0
            },
            "text/plain": [
              "raw.zip:  39%|###9      | 2.29G/5.79G [00:00<?, ?B/s]"
            ]
          },
          "metadata": {},
          "output_type": "display_data"
        },
        {
          "name": "stderr",
          "output_type": "stream",
          "text": [
            "c:\\Users\\nicol\\AppData\\Local\\Programs\\Python\\Python312\\Lib\\site-packages\\huggingface_hub\\file_download.py:147: UserWarning: `huggingface_hub` cache-system uses symlinks by default to efficiently store duplicated files but your machine does not support them in C:\\Users\\nicol\\.cache\\huggingface\\hub\\datasets--large_spanish_corpus. Caching files will still work but in a degraded version that might require more space on your disk. This warning can be disabled by setting the `HF_HUB_DISABLE_SYMLINKS_WARNING` environment variable. For more details, see https://huggingface.co/docs/huggingface_hub/how-to-cache#limitations.\n",
            "To support symlinks on Windows, you either need to activate Developer Mode or to run Python as an administrator. In order to activate developer mode, see this article: https://docs.microsoft.com/en-us/windows/apps/get-started/enable-your-device-for-development\n",
            "  warnings.warn(message)\n"
          ]
        },
        {
          "data": {
            "application/vnd.jupyter.widget-view+json": {
              "model_id": "e5d5ccf28a804f1fbad92b519e01e644",
              "version_major": 2,
              "version_minor": 0
            },
            "text/plain": [
              "Generating train split:   0%|          | 0/3168368 [00:00<?, ? examples/s]"
            ]
          },
          "metadata": {},
          "output_type": "display_data"
        }
      ],
      "source": [
        "raw_text = load_dataset('large_spanish_corpus', name='DGT', split='train')"
      ]
    },
    {
      "cell_type": "code",
      "execution_count": 7,
      "id": "959c7276",
      "metadata": {},
      "outputs": [
        {
          "data": {
            "text/plain": [
              "Dataset({\n",
              "    features: ['text'],\n",
              "    num_rows: 3168368\n",
              "})"
            ]
          },
          "execution_count": 7,
          "metadata": {},
          "output_type": "execute_result"
        }
      ],
      "source": [
        "raw_text"
      ]
    },
    {
      "cell_type": "code",
      "execution_count": 8,
      "id": "P-4mNbSYpXf3",
      "metadata": {
        "id": "P-4mNbSYpXf3"
      },
      "outputs": [],
      "source": [
        "nlp = spacy.load(\"es_core_news_sm\")"
      ]
    },
    {
      "cell_type": "markdown",
      "id": "8061882d",
      "metadata": {},
      "source": [
        "## Generated Tokens"
      ]
    },
    {
      "cell_type": "code",
      "execution_count": 9,
      "id": "1kwn4_QVlZlb",
      "metadata": {
        "id": "1kwn4_QVlZlb"
      },
      "outputs": [],
      "source": [
        "def save_raw_text_with_nlp(raw_text, output_dir, lines_per_file=1000):\n",
        "    \"\"\"\n",
        "    Procesa un conjunto de textos utilizando spaCy y guarda los tokens en archivos divididos por partes.\n",
        "\n",
        "    Parámetros:\n",
        "    raw_text (iterable): Un conjunto de datos que contiene registros con textos,\n",
        "                         donde cada registro es un diccionario que debe incluir la clave 'text'.\n",
        "    output_dir (str): Directorio donde se guardarán los archivos de salida.\n",
        "    lines_per_file (int): Número de líneas por archivo de salida.\n",
        "\n",
        "    Salida:\n",
        "    - Archivos de texto que contienen los tokens procesados, divididos por partes.\n",
        "    \"\"\"\n",
        "    os.makedirs(output_dir, exist_ok=True)  # Crear directorio si no existe\n",
        "    all_tokens = []  # Lista para almacenar los tokens de un archivo actual\n",
        "    file_count = 0  # Contador de archivos\n",
        "\n",
        "    for i, record in enumerate(tqdm(raw_text, desc=\"Procesando textos\")):\n",
        "        doc = nlp(record['text'])\n",
        "        tokens = [token.text for token in doc]  # Extraer tokens\n",
        "        all_tokens.append(tokens)  # Almacenar tokens en la lista\n",
        "\n",
        "        # Si alcanzamos el número especificado de líneas, guardar en un archivo\n",
        "        if (i + 1) % lines_per_file == 0:\n",
        "            file_name = os.path.join(output_dir, f'tokens_part_{file_count}.txt')\n",
        "            with open(file_name, 'w', encoding='utf-8') as f:\n",
        "                for tokens_list in all_tokens:\n",
        "                    f.write(\" \".join(tokens_list) + '\\n')\n",
        "            file_count += 1  # Incrementar contador de archivos\n",
        "            all_tokens = []  # Reiniciar la lista para el siguiente archivo\n",
        "\n",
        "    # Guardar cualquier tokens restantes\n",
        "    if all_tokens:\n",
        "        file_name = os.path.join(output_dir, f'tokens_part_{file_count}.txt')\n",
        "        with open(file_name, 'w', encoding='utf-8') as f:\n",
        "            for tokens_list in all_tokens:\n",
        "                f.write(\" \".join(tokens_list) + '\\n')"
      ]
    },
    {
      "cell_type": "code",
      "execution_count": 10,
      "id": "nJLfeH6u6oSI",
      "metadata": {
        "colab": {
          "base_uri": "https://localhost:8080/"
        },
        "id": "nJLfeH6u6oSI",
        "outputId": "87fe56be-151a-48eb-ec70-a23e49337ebf"
      },
      "outputs": [
        {
          "name": "stderr",
          "output_type": "stream",
          "text": [
            "Procesando textos: 100%|██████████| 3168368/3168368 [5:01:54<00:00, 174.91it/s]    \n"
          ]
        }
      ],
      "source": [
        "#path = '/content/drive/MyDrive/Academico/PLN/taller1/output_tokens'\n",
        "#save_raw_text_with_nlp(raw_text, path, lines_per_file=3000)\n",
        "save_raw_text_with_nlp(raw_text, \"output_tokens_files\", lines_per_file=5000)"
      ]
    },
    {
      "cell_type": "markdown",
      "id": "dc03a2d0",
      "metadata": {},
      "source": [
        "## Clean Tokens"
      ]
    },
    {
      "cell_type": "code",
      "execution_count": 11,
      "id": "mZxS8XxFeLM4",
      "metadata": {
        "id": "mZxS8XxFeLM4"
      },
      "outputs": [],
      "source": [
        "def create_output_folder(output_folder):\n",
        "    \"\"\"Crea la carpeta de salida si no existe.\"\"\"\n",
        "    os.makedirs(output_folder, exist_ok=True)"
      ]
    },
    {
      "cell_type": "code",
      "execution_count": 12,
      "id": "8097a297",
      "metadata": {},
      "outputs": [],
      "source": [
        "def clean_token(token):\n",
        "    \"\"\"Limpia un token según los criterios establecidos.\"\"\"\n",
        "    # Eliminamos dígitos\n",
        "    w = re.sub(r'[0-9]', '', token)  # Depurar de dígitos\n",
        "\n",
        "    # Eliminamos signos de puntuación\n",
        "    re_punc = re.compile('[%s]' % re.escape(string.punctuation)) \n",
        "    w = re_punc.sub('', w)  # Depurar de signos de puntuación\n",
        "    \n",
        "    # Eliminamos símbolos especiales\n",
        "    w = re.sub(r\"\\!|\\'|\\?|\\¿|\\¡|\\«|\\»|\\—|◦\", \"\", w)  # Depurar de símbolos especiales\n",
        "\n",
        "    # Eliminamos palabras de una sola letra\n",
        "    if len(w) == 1:\n",
        "        return None\n",
        "        \n",
        "    # Comprobamos si la cadena resultante no está vacía\n",
        "    if w.strip():\n",
        "        # Eliminamos stopwords en español usando spaCy\n",
        "        if w.lower() in nlp.Defaults.stop_words:\n",
        "            return None\n",
        "        return w\n",
        "    return None"
      ]
    },
    {
      "cell_type": "code",
      "execution_count": 13,
      "id": "765a9406",
      "metadata": {},
      "outputs": [],
      "source": [
        "def clean_line(line):\n",
        "    \"\"\"Limpia una línea y devuelve una lista de tokens limpios.\"\"\"\n",
        "    # Dividir la línea en tokens (asumiendo que ya están separados por espacios)\n",
        "    tokens = line.strip().split()\n",
        "    return [clean_token(token) for token in tokens if clean_token(token) is not None]"
      ]
    },
    {
      "cell_type": "code",
      "execution_count": 24,
      "id": "c8c0b5aa",
      "metadata": {},
      "outputs": [],
      "source": [
        "def process_file(input_file_path, output_file_path):\n",
        "    \"\"\"Procesa un archivo y guarda los tokens limpios en el archivo de salida.\"\"\"\n",
        "    with open(input_file_path, 'r', encoding='utf-8') as f:\n",
        "        lines = f.readlines()\n",
        "\n",
        "    cleaned_token_lists = []\n",
        "    \n",
        "    # Iteramos sobre cada línea del archivo\n",
        "    for line in lines:\n",
        "        cleaned_list = clean_line(line)\n",
        "        \n",
        "        # Solo añadimos la lista de tokens si no está vacía\n",
        "        if cleaned_list:  \n",
        "            cleaned_token_lists.append(cleaned_list)\n",
        "\n",
        "    # Guardamos el resultado en el archivo de salida\n",
        "    with open(output_file_path, 'w', encoding='utf-8') as out_f:\n",
        "        for tokens_list in cleaned_token_lists:\n",
        "            out_f.write(\" \".join(tokens_list) + '\\n')\n",
        "    \n",
        "    return cleaned_token_lists"
      ]
    },
    {
      "cell_type": "code",
      "execution_count": 25,
      "id": "14f1b2d6",
      "metadata": {},
      "outputs": [],
      "source": [
        "def clean_tokens_files_from_folder(input_folder, output_folder):\n",
        "    \"\"\"\n",
        "    Limpia los tokens de varios archivos en una carpeta según los siguientes criterios:\n",
        "    1. Elimina números o dígitos.\n",
        "    2. Elimina stopwords en español.\n",
        "    3. Elimina puntuación y símbolos especiales.\n",
        "    4. Elimina espacios en blanco.\n",
        "    5. Elimina tokens de una sola letra\n",
        "    \n",
        "    Los archivos limpios se guardarán en una nueva carpeta y se devuelve una lista de listas con los tokens limpios.\n",
        "\n",
        "    Parámetros:\n",
        "    input_folder (str): Carpeta con los archivos de texto a limpiar.\n",
        "    output_folder (str): Carpeta donde se guardarán los archivos con los tokens limpios.\n",
        "\n",
        "    Retorna:\n",
        "    list: Lista de listas con los tokens limpios.\n",
        "    \"\"\"\n",
        "    create_output_folder(output_folder)\n",
        "\n",
        "    all_cleaned_token_lists = []  # Aquí almacenaremos todas las listas de tokens limpias\n",
        "\n",
        "    # Iteramos sobre todos los archivos en la carpeta de entrada\n",
        "    for file_name in tqdm(os.listdir(input_folder), desc=\"Procesando archivos\"):\n",
        "        input_file_path = os.path.join(input_folder, file_name)\n",
        "        output_file_path = os.path.join(output_folder, file_name)\n",
        "\n",
        "        cleaned_token_lists = process_file(input_file_path, output_file_path)\n",
        "        all_cleaned_token_lists.extend(cleaned_token_lists)\n",
        "\n",
        "    print(f\"Procesamiento completado. Archivos limpios guardados en {output_folder}\")\n",
        "\n",
        "    return all_cleaned_token_lists"
      ]
    },
    {
      "cell_type": "code",
      "execution_count": 26,
      "id": "f5a2ee4f",
      "metadata": {},
      "outputs": [
        {
          "name": "stderr",
          "output_type": "stream",
          "text": [
            "Procesando archivos: 100%|██████████| 634/634 [05:48<00:00,  1.82it/s]\n"
          ]
        },
        {
          "name": "stdout",
          "output_type": "stream",
          "text": [
            "Procesamiento completado. Archivos limpios guardados en output_clean_tokens_files\n"
          ]
        }
      ],
      "source": [
        "sentences_lists = clean_tokens_files_from_folder('output_tokens_files', 'output_clean_tokens_files')"
      ]
    },
    {
      "cell_type": "markdown",
      "id": "96c9e4a5",
      "metadata": {},
      "source": [
        "## Primeras 100 sentencias"
      ]
    },
    {
      "cell_type": "code",
      "execution_count": 23,
      "id": "d63890a3",
      "metadata": {},
      "outputs": [
        {
          "name": "stdout",
          "output_type": "stream",
          "text": [
            "[['Reglamento', 'Ejecución', 'UE', 'Comisión'],\n",
            " ['noviembre'],\n",
            " ['establecen', 'valores', 'importación', 'alzado', 'determinación', 'precio', 'entrada', 'determinadas', 'frutas', 'hortalizas'],\n",
            " ['COMISIÓN', 'EUROPEA'],\n",
            " ['Visto', 'Tratado', 'Funcionamiento', 'Unión', 'Europea'],\n",
            " ['Visto', 'Reglamento', 'CE', 'Consejo', 'octubre', 'crea', 'organización', 'común', 'mercados', 'agrícolas', 'establecen', 'disposiciones', 'específicas', 'determinados', 'productos', 'agrícolas', 'Reglamento', 'único', 'OCM'],\n",
            " ['Visto', 'Reglamento', 'Ejecución', 'UE', 'Comisión', 'junio', 'establecen', 'disposiciones', 'aplicación', 'Reglamento', 'CE', 'Consejo', 'sectores', 'frutas', 'hortalizas', 'frutas', 'hortalizas', 'transformadas', 'particular', 'artículo', 'apartado'],\n",
            " ['Considerando'],\n",
            " ['Reglamento', 'Ejecución', 'UE', 'establece', 'aplicación', 'resultados', 'negociaciones', 'comerciales', 'multilaterales', 'Ronda', 'Uruguay', 'criterios', 'Comisión', 'fije', 'valores', 'importación', 'alzado', 'terceros', 'países', 'correspondientes', 'productos', 'períodos', 'figuran', 'anexo', 'XVI', 'Reglamento'],\n",
            " ['artículo', 'apartado', 'Reglamento', 'Ejecución', 'UE', 'valor', 'importación', 'alzado', 'calcula', 'hábil', 'teniendo', 'datos', 'varían', 'diariamente'],\n",
            " ['presente', 'Reglamento', 'entrar', 'vigor', 'publicación', 'Diario', 'Oficial', 'Unión', 'Europea'],\n",
            " ['ADOPTADO', 'PRESENTE', 'REGLAMENTO'],\n",
            " ['Artículo'],\n",
            " ['anexo', 'presente', 'Reglamento', 'quedan', 'fijados', 'valores', 'importación', 'alzado', 'refiere', 'artículo', 'Reglamento', 'Ejecución', 'UE'],\n",
            " ['Artículo'],\n",
            " ['presente', 'Reglamento', 'entrará', 'vigor', 'publicación', 'Diario', 'Oficial', 'Unión', 'Europea'],\n",
            " ['presente', 'Reglamento', 'obligatorio', 'elementos', 'directamente', 'aplicable', 'miembro'],\n",
            " ['Bruselas', 'noviembre'],\n",
            " ['DO'],\n",
            " ['DO'],\n",
            " ['ANEXO'],\n",
            " ['Valores', 'importación', 'alzado', 'determinación', 'precio', 'entrada', 'determinadas', 'frutas', 'hortalizas'],\n",
            " ['Código', 'NC'],\n",
            " ['Código', 'tercer', 'país'],\n",
            " ['Valor', 'importación', 'alzado'],\n",
            " ['Nomenclatura', 'países', 'fijada', 'Reglamento', 'CE', 'Comisión', 'DO'],\n",
            " ['código', 'ZZ', 'significa', 'orígenes'],\n",
            " ['Reglamento', 'CE', 'Comisión'],\n",
            " ['diciembre'],\n",
            " ['establecen', 'valores', 'globales', 'importación', 'determinación', 'precio', 'entrada', 'determinadas', 'frutas', 'hortalizas'],\n",
            " ['COMISIÓN', 'COMUNIDADES', 'EUROPEAS'],\n",
            " ['Visto', 'Tratado', 'constitutivo', 'Comunidad', 'Europea'],\n",
            " ['Visto', 'Reglamento', 'CE', 'Comisión', 'diciembre', 'establecen', 'disposiciones', 'aplicación', 'régimen', 'importación', 'frutas', 'hortalizas', 'particular', 'apartado', 'artículo'],\n",
            " ['Considerando'],\n",
            " ['Reglamento', 'CE', 'establece', 'aplicación', 'resultados', 'negociaciones', 'comerciales', 'multilaterales', 'Ronda', 'Uruguay', 'criterios', 'Comisión', 'fije', 'valores', 'alzado', 'importación', 'terceros', 'países', 'correspondientes', 'productos', 'períodos', 'precisan', 'anexo'],\n",
            " ['aplicación', 'criterios', 'indicados', 'valores', 'globales', 'importación', 'fijarse', 'niveles', 'figuran', 'anexo', 'presente', 'Reglamento'],\n",
            " ['ADOPTADO', 'PRESENTE', 'REGLAMENTO'],\n",
            " ['Artículo'],\n",
            " ['valores', 'globales', 'importación', 'refiere', 'artículo', 'Reglamento', 'CE', 'quedan', 'fijados', 'indica', 'cuadro', 'anexo'],\n",
            " ['Artículo'],\n",
            " ['presente', 'Reglamento', 'entrará', 'vigor', 'diciembre'],\n",
            " ['presente', 'Reglamento', 'obligatorio', 'elementos', 'directamente', 'aplicable', 'miembro'],\n",
            " ['Bruselas', 'diciembre'],\n",
            " ['Comisión'],\n",
            " ['Director', 'General', 'Agricultura', 'Desarrollo', 'Rural'],\n",
            " ['DO'],\n",
            " ['Reglamento', 'modificado', 'lugar', 'Reglamento', 'CE', 'DO'],\n",
            " ['ANEXO'],\n",
            " ['Reglamento', 'Comisión', 'diciembre', 'establecen', 'valores', 'globales', 'importación', 'determinación', 'precio', 'entrada', 'determinadas', 'frutas', 'hortalizas'],\n",
            " ['Código', 'NC'],\n",
            " ['Código', 'país'],\n",
            " ['Valor', 'global', 'importación'],\n",
            " ['Nomenclatura', 'países', 'fijada', 'Reglamento', 'CE', 'Comisión', 'DO'],\n",
            " ['código', 'significa', 'orígenes'],\n",
            " ['Reglamento', 'CE', 'Comisión'],\n",
            " ['diciembre'],\n",
            " ['fija', 'coeficiente', 'asignación', 'expedición', 'certificados', 'solicitados', 'diciembre', 'importación', 'productos', 'sector', 'azúcar', 'amparo', 'determinados', 'contingentes', 'arancelarios', 'acuerdos', 'preferenciales'],\n",
            " ['COMISIÓN', 'COMUNIDADES', 'EUROPEAS'],\n",
            " ['Visto', 'Tratado', 'constitutivo', 'Comunidad', 'Europea'],\n",
            " ['Visto', 'Reglamento', 'CE', 'Consejo', 'octubre', 'crea', 'organización', 'común', 'mercados', 'agrícolas', 'establecen', 'disposiciones', 'específicas', 'determinados', 'productos', 'agrícolas', 'Reglamento', 'único', 'OCM'],\n",
            " ['Visto', 'Reglamento', 'CE', 'Comisión', 'junio', 'establecen', 'campañas', 'comercialización', 'disposiciones', 'aplicación', 'importación', 'refinado', 'productos', 'sector', 'azúcar', 'marco', 'determinados', 'contingentes', 'arancelarios', 'acuerdos', 'preferenciales', 'particular', 'artículo', 'apartado'],\n",
            " ['Considerando'],\n",
            " ['conformidad', 'Reglamentos', 'CE', 'CE', 'Consejo', 'mayo', 'abren', 'contingentes', 'arancelarios', 'importación', 'Bulgaria', 'Rumanía', 'azúcar', 'caña', 'bruto', 'destinado', 'refinerías', 'campañas', 'comercialización', 'período', 'comprendido', 'diciembre', 'presentaron', 'autoridades', 'competentes', 'solicitudes', 'certificados', 'importación', 'cantidad', 'superior', 'cantidad', 'disponible', 'número', 'orden', 'julioseptiembre'],\n",
            " ['tales', 'circunstancias', 'Comisión', 'fijar', 'coeficiente', 'asignación', 'permita', 'expedición', 'certificados', 'forma', 'proporcional', 'cantidad', 'disponible', 'notificar', 'miembros', 'alcanzado', 'límite', 'correspondiente'],\n",
            " ['ADOPTADO', 'PRESENTE', 'REGLAMENTO'],\n",
            " ['Artículo'],\n",
            " ['certificados', 'importación', 'correspondientes', 'solicitudes', 'presentadas', 'diciembre', 'arreglo', 'artículo', 'apartado', 'Reglamento', 'CE', 'artículo', 'Reglamento', 'CE', 'expedirán', 'límites', 'cuantitativos', 'indicados', 'anexo', 'presente', 'Reglamento'],\n",
            " ['Artículo'],\n",
            " ['presente', 'Reglamento', 'entrará', 'vigor', 'publicación', 'Diario', 'Oficial', 'Unión', 'Europea'],\n",
            " ['presente', 'Reglamento', 'obligatorio', 'elementos', 'directamente', 'aplicable', 'miembro'],\n",
            " ['Bruselas', 'diciembre'],\n",
            " ['Comisión'],\n",
            " ['Director', 'General', 'Agricultura', 'Desarrollo', 'Rural'],\n",
            " ['DO'],\n",
            " ['DO'],\n",
            " ['DO'],\n",
            " ['ANEXO'],\n",
            " ['Azúcar', 'preferente', 'ACPINDIA'],\n",
            " ['Capítulo', 'IV', 'Reglamento', 'CE'],\n",
            " ['Campaña', 'comercialización'],\n",
            " ['Número', 'orden'],\n",
            " ['País'],\n",
            " ['entregar', 'cantidades', 'solicitadas', 'semana'],\n",
            " ['Costa', 'Marfil'],\n",
            " ['República', 'Congo'],\n",
            " ['Fiyi'],\n",
            " ['Alcanzado'],\n",
            " ['Kenia'],\n",
            " ['Mauricio'],\n",
            " ['San', 'Cristóbal', 'Nieves'],\n",
            " ['Surinam'],\n",
            " ['Suazilandia'],\n",
            " ['Trinidad', 'Tobago'],\n",
            " ['Campaña', 'comercialización', 'julioseptiembre'],\n",
            " ['Alcanzado'],\n",
            " ['Azúcar', 'adicional'],\n",
            " ['Capítulo', 'Reglamento', 'CE'],\n",
            " ['Países', 'signatarios', 'Protocolo', 'ACP'],\n",
            " ['Azúcar', 'concesiones', 'CXL'],\n",
            " ['Capítulo', 'VI', 'Reglamento', 'CE'],\n",
            "]\n"
          ]
        }
      ],
      "source": [
        "print(\"[\", end=\"\")  \n",
        "for idx, line in enumerate(sentences_lists[:100]):\n",
        "    if idx == 0:\n",
        "        print(f\"{line},\")  \n",
        "    else:\n",
        "        print(f\" {line},\")  \n",
        "print(\"]\")  "
      ]
    }
  ],
  "metadata": {
    "colab": {
      "provenance": []
    },
    "kernelspec": {
      "display_name": "Python 3",
      "language": "python",
      "name": "python3"
    },
    "language_info": {
      "codemirror_mode": {
        "name": "ipython",
        "version": 3
      },
      "file_extension": ".py",
      "mimetype": "text/x-python",
      "name": "python",
      "nbconvert_exporter": "python",
      "pygments_lexer": "ipython3",
      "version": "3.12.5"
    },
    "widgets": {
      "application/vnd.jupyter.widget-state+json": {
        "020399ed69a045ddba79e2f2ec6be4b9": {
          "model_module": "@jupyter-widgets/controls",
          "model_module_version": "1.5.0",
          "model_name": "DescriptionStyleModel",
          "state": {
            "_model_module": "@jupyter-widgets/controls",
            "_model_module_version": "1.5.0",
            "_model_name": "DescriptionStyleModel",
            "_view_count": null,
            "_view_module": "@jupyter-widgets/base",
            "_view_module_version": "1.2.0",
            "_view_name": "StyleView",
            "description_width": ""
          }
        },
        "06657483b53b49abbe39dc29c7df8a89": {
          "model_module": "@jupyter-widgets/controls",
          "model_module_version": "1.5.0",
          "model_name": "HTMLModel",
          "state": {
            "_dom_classes": [],
            "_model_module": "@jupyter-widgets/controls",
            "_model_module_version": "1.5.0",
            "_model_name": "HTMLModel",
            "_view_count": null,
            "_view_module": "@jupyter-widgets/controls",
            "_view_module_version": "1.5.0",
            "_view_name": "HTMLView",
            "description": "",
            "description_tooltip": null,
            "layout": "IPY_MODEL_15b55152ca4141d0a3340e577be8e335",
            "placeholder": "​",
            "style": "IPY_MODEL_de5a6a76b68b4236966ca742634a527c",
            "value": " 8.26k/8.26k [00:00&lt;00:00, 399kB/s]"
          }
        },
        "15b55152ca4141d0a3340e577be8e335": {
          "model_module": "@jupyter-widgets/base",
          "model_module_version": "1.2.0",
          "model_name": "LayoutModel",
          "state": {
            "_model_module": "@jupyter-widgets/base",
            "_model_module_version": "1.2.0",
            "_model_name": "LayoutModel",
            "_view_count": null,
            "_view_module": "@jupyter-widgets/base",
            "_view_module_version": "1.2.0",
            "_view_name": "LayoutView",
            "align_content": null,
            "align_items": null,
            "align_self": null,
            "border": null,
            "bottom": null,
            "display": null,
            "flex": null,
            "flex_flow": null,
            "grid_area": null,
            "grid_auto_columns": null,
            "grid_auto_flow": null,
            "grid_auto_rows": null,
            "grid_column": null,
            "grid_gap": null,
            "grid_row": null,
            "grid_template_areas": null,
            "grid_template_columns": null,
            "grid_template_rows": null,
            "height": null,
            "justify_content": null,
            "justify_items": null,
            "left": null,
            "margin": null,
            "max_height": null,
            "max_width": null,
            "min_height": null,
            "min_width": null,
            "object_fit": null,
            "object_position": null,
            "order": null,
            "overflow": null,
            "overflow_x": null,
            "overflow_y": null,
            "padding": null,
            "right": null,
            "top": null,
            "visibility": null,
            "width": null
          }
        },
        "22786f39bf434d33896461ec36e5f8a6": {
          "model_module": "@jupyter-widgets/controls",
          "model_module_version": "1.5.0",
          "model_name": "HTMLModel",
          "state": {
            "_dom_classes": [],
            "_model_module": "@jupyter-widgets/controls",
            "_model_module_version": "1.5.0",
            "_model_name": "HTMLModel",
            "_view_count": null,
            "_view_module": "@jupyter-widgets/controls",
            "_view_module_version": "1.5.0",
            "_view_name": "HTMLView",
            "description": "",
            "description_tooltip": null,
            "layout": "IPY_MODEL_74789e3bec44488ba0b7dbda9a0f943c",
            "placeholder": "​",
            "style": "IPY_MODEL_2c8ac45966eb4af28c76a17e83ad5b06",
            "value": "large_spanish_corpus.py: 100%"
          }
        },
        "2572eed84671459690ec78338de5b4e8": {
          "model_module": "@jupyter-widgets/controls",
          "model_module_version": "1.5.0",
          "model_name": "HTMLModel",
          "state": {
            "_dom_classes": [],
            "_model_module": "@jupyter-widgets/controls",
            "_model_module_version": "1.5.0",
            "_model_name": "HTMLModel",
            "_view_count": null,
            "_view_module": "@jupyter-widgets/controls",
            "_view_module_version": "1.5.0",
            "_view_name": "HTMLView",
            "description": "",
            "description_tooltip": null,
            "layout": "IPY_MODEL_9e263809bec04f378eb378b0db7209ab",
            "placeholder": "​",
            "style": "IPY_MODEL_2f44e7977e464a8f90bcd06a2f8faf46",
            "value": " 3.93k/3.93k [00:00&lt;00:00, 169kB/s]"
          }
        },
        "282992c9682f406c90aa730c5cbf872d": {
          "model_module": "@jupyter-widgets/base",
          "model_module_version": "1.2.0",
          "model_name": "LayoutModel",
          "state": {
            "_model_module": "@jupyter-widgets/base",
            "_model_module_version": "1.2.0",
            "_model_name": "LayoutModel",
            "_view_count": null,
            "_view_module": "@jupyter-widgets/base",
            "_view_module_version": "1.2.0",
            "_view_name": "LayoutView",
            "align_content": null,
            "align_items": null,
            "align_self": null,
            "border": null,
            "bottom": null,
            "display": null,
            "flex": null,
            "flex_flow": null,
            "grid_area": null,
            "grid_auto_columns": null,
            "grid_auto_flow": null,
            "grid_auto_rows": null,
            "grid_column": null,
            "grid_gap": null,
            "grid_row": null,
            "grid_template_areas": null,
            "grid_template_columns": null,
            "grid_template_rows": null,
            "height": null,
            "justify_content": null,
            "justify_items": null,
            "left": null,
            "margin": null,
            "max_height": null,
            "max_width": null,
            "min_height": null,
            "min_width": null,
            "object_fit": null,
            "object_position": null,
            "order": null,
            "overflow": null,
            "overflow_x": null,
            "overflow_y": null,
            "padding": null,
            "right": null,
            "top": null,
            "visibility": null,
            "width": null
          }
        },
        "2c8ac45966eb4af28c76a17e83ad5b06": {
          "model_module": "@jupyter-widgets/controls",
          "model_module_version": "1.5.0",
          "model_name": "DescriptionStyleModel",
          "state": {
            "_model_module": "@jupyter-widgets/controls",
            "_model_module_version": "1.5.0",
            "_model_name": "DescriptionStyleModel",
            "_view_count": null,
            "_view_module": "@jupyter-widgets/base",
            "_view_module_version": "1.2.0",
            "_view_name": "StyleView",
            "description_width": ""
          }
        },
        "2f44e7977e464a8f90bcd06a2f8faf46": {
          "model_module": "@jupyter-widgets/controls",
          "model_module_version": "1.5.0",
          "model_name": "DescriptionStyleModel",
          "state": {
            "_model_module": "@jupyter-widgets/controls",
            "_model_module_version": "1.5.0",
            "_model_name": "DescriptionStyleModel",
            "_view_count": null,
            "_view_module": "@jupyter-widgets/base",
            "_view_module_version": "1.2.0",
            "_view_name": "StyleView",
            "description_width": ""
          }
        },
        "43c8b354b4ba4701b17709e97018cd4a": {
          "model_module": "@jupyter-widgets/base",
          "model_module_version": "1.2.0",
          "model_name": "LayoutModel",
          "state": {
            "_model_module": "@jupyter-widgets/base",
            "_model_module_version": "1.2.0",
            "_model_name": "LayoutModel",
            "_view_count": null,
            "_view_module": "@jupyter-widgets/base",
            "_view_module_version": "1.2.0",
            "_view_name": "LayoutView",
            "align_content": null,
            "align_items": null,
            "align_self": null,
            "border": null,
            "bottom": null,
            "display": null,
            "flex": null,
            "flex_flow": null,
            "grid_area": null,
            "grid_auto_columns": null,
            "grid_auto_flow": null,
            "grid_auto_rows": null,
            "grid_column": null,
            "grid_gap": null,
            "grid_row": null,
            "grid_template_areas": null,
            "grid_template_columns": null,
            "grid_template_rows": null,
            "height": null,
            "justify_content": null,
            "justify_items": null,
            "left": null,
            "margin": null,
            "max_height": null,
            "max_width": null,
            "min_height": null,
            "min_width": null,
            "object_fit": null,
            "object_position": null,
            "order": null,
            "overflow": null,
            "overflow_x": null,
            "overflow_y": null,
            "padding": null,
            "right": null,
            "top": null,
            "visibility": null,
            "width": null
          }
        },
        "4c6fb2c7cbbe401b8f789844222d0e3f": {
          "model_module": "@jupyter-widgets/controls",
          "model_module_version": "1.5.0",
          "model_name": "FloatProgressModel",
          "state": {
            "_dom_classes": [],
            "_model_module": "@jupyter-widgets/controls",
            "_model_module_version": "1.5.0",
            "_model_name": "FloatProgressModel",
            "_view_count": null,
            "_view_module": "@jupyter-widgets/controls",
            "_view_module_version": "1.5.0",
            "_view_name": "ProgressView",
            "bar_style": "success",
            "description": "",
            "description_tooltip": null,
            "layout": "IPY_MODEL_c30e65ad7acb4bd2af086c3705fc9893",
            "max": 8256,
            "min": 0,
            "orientation": "horizontal",
            "style": "IPY_MODEL_9aa49b8e42a6453e9b3269798f384e2c",
            "value": 8256
          }
        },
        "52b4f06633dc4dac80695b8a516ddc25": {
          "model_module": "@jupyter-widgets/controls",
          "model_module_version": "1.5.0",
          "model_name": "HTMLModel",
          "state": {
            "_dom_classes": [],
            "_model_module": "@jupyter-widgets/controls",
            "_model_module_version": "1.5.0",
            "_model_name": "HTMLModel",
            "_view_count": null,
            "_view_module": "@jupyter-widgets/controls",
            "_view_module_version": "1.5.0",
            "_view_name": "HTMLView",
            "description": "",
            "description_tooltip": null,
            "layout": "IPY_MODEL_9b9897560ab047d9839d6137ab8891a0",
            "placeholder": "​",
            "style": "IPY_MODEL_020399ed69a045ddba79e2f2ec6be4b9",
            "value": "README.md: 100%"
          }
        },
        "74789e3bec44488ba0b7dbda9a0f943c": {
          "model_module": "@jupyter-widgets/base",
          "model_module_version": "1.2.0",
          "model_name": "LayoutModel",
          "state": {
            "_model_module": "@jupyter-widgets/base",
            "_model_module_version": "1.2.0",
            "_model_name": "LayoutModel",
            "_view_count": null,
            "_view_module": "@jupyter-widgets/base",
            "_view_module_version": "1.2.0",
            "_view_name": "LayoutView",
            "align_content": null,
            "align_items": null,
            "align_self": null,
            "border": null,
            "bottom": null,
            "display": null,
            "flex": null,
            "flex_flow": null,
            "grid_area": null,
            "grid_auto_columns": null,
            "grid_auto_flow": null,
            "grid_auto_rows": null,
            "grid_column": null,
            "grid_gap": null,
            "grid_row": null,
            "grid_template_areas": null,
            "grid_template_columns": null,
            "grid_template_rows": null,
            "height": null,
            "justify_content": null,
            "justify_items": null,
            "left": null,
            "margin": null,
            "max_height": null,
            "max_width": null,
            "min_height": null,
            "min_width": null,
            "object_fit": null,
            "object_position": null,
            "order": null,
            "overflow": null,
            "overflow_x": null,
            "overflow_y": null,
            "padding": null,
            "right": null,
            "top": null,
            "visibility": null,
            "width": null
          }
        },
        "806f261b96a64ce6825adb88b263f5b2": {
          "model_module": "@jupyter-widgets/controls",
          "model_module_version": "1.5.0",
          "model_name": "HBoxModel",
          "state": {
            "_dom_classes": [],
            "_model_module": "@jupyter-widgets/controls",
            "_model_module_version": "1.5.0",
            "_model_name": "HBoxModel",
            "_view_count": null,
            "_view_module": "@jupyter-widgets/controls",
            "_view_module_version": "1.5.0",
            "_view_name": "HBoxView",
            "box_style": "",
            "children": [
              "IPY_MODEL_22786f39bf434d33896461ec36e5f8a6",
              "IPY_MODEL_effbf02cfd534377ac020ae1507f719c",
              "IPY_MODEL_2572eed84671459690ec78338de5b4e8"
            ],
            "layout": "IPY_MODEL_43c8b354b4ba4701b17709e97018cd4a"
          }
        },
        "9aa49b8e42a6453e9b3269798f384e2c": {
          "model_module": "@jupyter-widgets/controls",
          "model_module_version": "1.5.0",
          "model_name": "ProgressStyleModel",
          "state": {
            "_model_module": "@jupyter-widgets/controls",
            "_model_module_version": "1.5.0",
            "_model_name": "ProgressStyleModel",
            "_view_count": null,
            "_view_module": "@jupyter-widgets/base",
            "_view_module_version": "1.2.0",
            "_view_name": "StyleView",
            "bar_color": null,
            "description_width": ""
          }
        },
        "9b9897560ab047d9839d6137ab8891a0": {
          "model_module": "@jupyter-widgets/base",
          "model_module_version": "1.2.0",
          "model_name": "LayoutModel",
          "state": {
            "_model_module": "@jupyter-widgets/base",
            "_model_module_version": "1.2.0",
            "_model_name": "LayoutModel",
            "_view_count": null,
            "_view_module": "@jupyter-widgets/base",
            "_view_module_version": "1.2.0",
            "_view_name": "LayoutView",
            "align_content": null,
            "align_items": null,
            "align_self": null,
            "border": null,
            "bottom": null,
            "display": null,
            "flex": null,
            "flex_flow": null,
            "grid_area": null,
            "grid_auto_columns": null,
            "grid_auto_flow": null,
            "grid_auto_rows": null,
            "grid_column": null,
            "grid_gap": null,
            "grid_row": null,
            "grid_template_areas": null,
            "grid_template_columns": null,
            "grid_template_rows": null,
            "height": null,
            "justify_content": null,
            "justify_items": null,
            "left": null,
            "margin": null,
            "max_height": null,
            "max_width": null,
            "min_height": null,
            "min_width": null,
            "object_fit": null,
            "object_position": null,
            "order": null,
            "overflow": null,
            "overflow_x": null,
            "overflow_y": null,
            "padding": null,
            "right": null,
            "top": null,
            "visibility": null,
            "width": null
          }
        },
        "9e263809bec04f378eb378b0db7209ab": {
          "model_module": "@jupyter-widgets/base",
          "model_module_version": "1.2.0",
          "model_name": "LayoutModel",
          "state": {
            "_model_module": "@jupyter-widgets/base",
            "_model_module_version": "1.2.0",
            "_model_name": "LayoutModel",
            "_view_count": null,
            "_view_module": "@jupyter-widgets/base",
            "_view_module_version": "1.2.0",
            "_view_name": "LayoutView",
            "align_content": null,
            "align_items": null,
            "align_self": null,
            "border": null,
            "bottom": null,
            "display": null,
            "flex": null,
            "flex_flow": null,
            "grid_area": null,
            "grid_auto_columns": null,
            "grid_auto_flow": null,
            "grid_auto_rows": null,
            "grid_column": null,
            "grid_gap": null,
            "grid_row": null,
            "grid_template_areas": null,
            "grid_template_columns": null,
            "grid_template_rows": null,
            "height": null,
            "justify_content": null,
            "justify_items": null,
            "left": null,
            "margin": null,
            "max_height": null,
            "max_width": null,
            "min_height": null,
            "min_width": null,
            "object_fit": null,
            "object_position": null,
            "order": null,
            "overflow": null,
            "overflow_x": null,
            "overflow_y": null,
            "padding": null,
            "right": null,
            "top": null,
            "visibility": null,
            "width": null
          }
        },
        "c30e65ad7acb4bd2af086c3705fc9893": {
          "model_module": "@jupyter-widgets/base",
          "model_module_version": "1.2.0",
          "model_name": "LayoutModel",
          "state": {
            "_model_module": "@jupyter-widgets/base",
            "_model_module_version": "1.2.0",
            "_model_name": "LayoutModel",
            "_view_count": null,
            "_view_module": "@jupyter-widgets/base",
            "_view_module_version": "1.2.0",
            "_view_name": "LayoutView",
            "align_content": null,
            "align_items": null,
            "align_self": null,
            "border": null,
            "bottom": null,
            "display": null,
            "flex": null,
            "flex_flow": null,
            "grid_area": null,
            "grid_auto_columns": null,
            "grid_auto_flow": null,
            "grid_auto_rows": null,
            "grid_column": null,
            "grid_gap": null,
            "grid_row": null,
            "grid_template_areas": null,
            "grid_template_columns": null,
            "grid_template_rows": null,
            "height": null,
            "justify_content": null,
            "justify_items": null,
            "left": null,
            "margin": null,
            "max_height": null,
            "max_width": null,
            "min_height": null,
            "min_width": null,
            "object_fit": null,
            "object_position": null,
            "order": null,
            "overflow": null,
            "overflow_x": null,
            "overflow_y": null,
            "padding": null,
            "right": null,
            "top": null,
            "visibility": null,
            "width": null
          }
        },
        "de5a6a76b68b4236966ca742634a527c": {
          "model_module": "@jupyter-widgets/controls",
          "model_module_version": "1.5.0",
          "model_name": "DescriptionStyleModel",
          "state": {
            "_model_module": "@jupyter-widgets/controls",
            "_model_module_version": "1.5.0",
            "_model_name": "DescriptionStyleModel",
            "_view_count": null,
            "_view_module": "@jupyter-widgets/base",
            "_view_module_version": "1.2.0",
            "_view_name": "StyleView",
            "description_width": ""
          }
        },
        "e8b0b643782e4914a3477a8d47668ebc": {
          "model_module": "@jupyter-widgets/controls",
          "model_module_version": "1.5.0",
          "model_name": "ProgressStyleModel",
          "state": {
            "_model_module": "@jupyter-widgets/controls",
            "_model_module_version": "1.5.0",
            "_model_name": "ProgressStyleModel",
            "_view_count": null,
            "_view_module": "@jupyter-widgets/base",
            "_view_module_version": "1.2.0",
            "_view_name": "StyleView",
            "bar_color": null,
            "description_width": ""
          }
        },
        "effbf02cfd534377ac020ae1507f719c": {
          "model_module": "@jupyter-widgets/controls",
          "model_module_version": "1.5.0",
          "model_name": "FloatProgressModel",
          "state": {
            "_dom_classes": [],
            "_model_module": "@jupyter-widgets/controls",
            "_model_module_version": "1.5.0",
            "_model_name": "FloatProgressModel",
            "_view_count": null,
            "_view_module": "@jupyter-widgets/controls",
            "_view_module_version": "1.5.0",
            "_view_name": "ProgressView",
            "bar_style": "success",
            "description": "",
            "description_tooltip": null,
            "layout": "IPY_MODEL_282992c9682f406c90aa730c5cbf872d",
            "max": 3929,
            "min": 0,
            "orientation": "horizontal",
            "style": "IPY_MODEL_e8b0b643782e4914a3477a8d47668ebc",
            "value": 3929
          }
        },
        "f5c57dcc365140d89f27e489681fc174": {
          "model_module": "@jupyter-widgets/base",
          "model_module_version": "1.2.0",
          "model_name": "LayoutModel",
          "state": {
            "_model_module": "@jupyter-widgets/base",
            "_model_module_version": "1.2.0",
            "_model_name": "LayoutModel",
            "_view_count": null,
            "_view_module": "@jupyter-widgets/base",
            "_view_module_version": "1.2.0",
            "_view_name": "LayoutView",
            "align_content": null,
            "align_items": null,
            "align_self": null,
            "border": null,
            "bottom": null,
            "display": null,
            "flex": null,
            "flex_flow": null,
            "grid_area": null,
            "grid_auto_columns": null,
            "grid_auto_flow": null,
            "grid_auto_rows": null,
            "grid_column": null,
            "grid_gap": null,
            "grid_row": null,
            "grid_template_areas": null,
            "grid_template_columns": null,
            "grid_template_rows": null,
            "height": null,
            "justify_content": null,
            "justify_items": null,
            "left": null,
            "margin": null,
            "max_height": null,
            "max_width": null,
            "min_height": null,
            "min_width": null,
            "object_fit": null,
            "object_position": null,
            "order": null,
            "overflow": null,
            "overflow_x": null,
            "overflow_y": null,
            "padding": null,
            "right": null,
            "top": null,
            "visibility": null,
            "width": null
          }
        },
        "fb498267b78e4a878d20bcaa439b70c9": {
          "model_module": "@jupyter-widgets/controls",
          "model_module_version": "1.5.0",
          "model_name": "HBoxModel",
          "state": {
            "_dom_classes": [],
            "_model_module": "@jupyter-widgets/controls",
            "_model_module_version": "1.5.0",
            "_model_name": "HBoxModel",
            "_view_count": null,
            "_view_module": "@jupyter-widgets/controls",
            "_view_module_version": "1.5.0",
            "_view_name": "HBoxView",
            "box_style": "",
            "children": [
              "IPY_MODEL_52b4f06633dc4dac80695b8a516ddc25",
              "IPY_MODEL_4c6fb2c7cbbe401b8f789844222d0e3f",
              "IPY_MODEL_06657483b53b49abbe39dc29c7df8a89"
            ],
            "layout": "IPY_MODEL_f5c57dcc365140d89f27e489681fc174"
          }
        }
      }
    }
  },
  "nbformat": 4,
  "nbformat_minor": 5
}
